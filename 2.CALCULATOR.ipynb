{
 "cells": [
  {
   "cell_type": "code",
   "execution_count": 12,
   "metadata": {
    "scrolled": false
   },
   "outputs": [
    {
     "name": "stdout",
     "output_type": "stream",
     "text": [
      "*****************************\n",
      "*CHOOSE AN OPERATION?       * \n",
      "*1.ADDITION                 *\n",
      "*2.SUBTRACTION              *\n",
      "*3.MULTIPLICATION           *\n",
      "*4.DIVISION                 *\n",
      "*****************************\n",
      "Enter choice(1/2/3/4): 4\n",
      "Enter first number: 2\n",
      "Enter second number: 0\n",
      "2.0 / 0.0 = undefined\n"
     ]
    }
   ],
   "source": [
    "# Code: 2\n",
    "# Create a calculator that operates \n",
    "# addition, subtraction, division, and multiplication of 2 integers. \n",
    "# Make sure to handle division by 0.\n",
    "\n",
    " # Calculator's operations\n",
    "def a(x, y):\n",
    "    return x + y\n",
    "\n",
    "def s(x, y):\n",
    "    return x - y\n",
    "\n",
    "def m(x, y):\n",
    "    return x * y\n",
    "\n",
    "def d(x, y):\n",
    "    try:\n",
    "        z =  x / y\n",
    "        return z\n",
    "    except:\n",
    "        z ='undefined'\n",
    "        return z\n",
    "        \n",
    "a = '''*****************************\n",
    "*CHOOSE AN OPERATION?       * \n",
    "*1.ADDITION                 *\n",
    "*2.SUBTRACTION              *\n",
    "*3.MULTIPLICATION           *\n",
    "*4.DIVISION                 *\n",
    "*****************************'''\n",
    "print(a)\n",
    "\n",
    "while True:\n",
    "# inputs the users' numerical choice\n",
    "    c = input(\"Enter choice(1/2/3/4): \")\n",
    "\n",
    "    # Check if choice is one of the four options\n",
    "    if c in ('1', '2', '3', '4'):\n",
    "        n1 = float(input(\"Enter first number: \"))\n",
    "        n2 = float(input(\"Enter second number: \"))\n",
    "# prints final result\n",
    "        if c == '1':\n",
    "            print(n1, \"+\", n2, \"=\", a(n1, n2))\n",
    "\n",
    "        elif c == '2':\n",
    "            print(n1, \"-\", n2, \"=\", s(n1, n2))\n",
    "\n",
    "        elif c == '3':\n",
    "            print(n1, \"*\", n2, \"=\", m(n1, n2))\n",
    "\n",
    "        elif c == '4':\n",
    "            print(n1, \"/\", n2, \"=\", d(n1, n2))\n",
    "        break\n",
    "    else:\n",
    "        print(\"PLEASE TRY AGAIN\")"
   ]
  }
 ],
 "metadata": {
  "kernelspec": {
   "display_name": "Python 3",
   "language": "python",
   "name": "python3"
  },
  "language_info": {
   "codemirror_mode": {
    "name": "ipython",
    "version": 3
   },
   "file_extension": ".py",
   "mimetype": "text/x-python",
   "name": "python",
   "nbconvert_exporter": "python",
   "pygments_lexer": "ipython3",
   "version": "3.8.3"
  }
 },
 "nbformat": 4,
 "nbformat_minor": 4
}
